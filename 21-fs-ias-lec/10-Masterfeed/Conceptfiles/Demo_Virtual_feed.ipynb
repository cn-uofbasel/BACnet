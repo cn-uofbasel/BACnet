{
 "cells": [
  {
   "cell_type": "markdown",
   "metadata": {
    "id": "0MWe_2hzQTwJ"
   },
   "source": [
    "# Demo Konzept Virtualfeed\n",
    "Dies ist eine kleine Demo die die Implementation des Virtual feeds erklären und demonstrieren soll"
   ]
  },
  {
   "cell_type": "markdown",
   "metadata": {
    "id": "q8EGQc_PQ5Hl"
   },
   "source": [
    "Wir haben drei devices mit eigenen RSA Schlüsseln. Der Virtuelle Feed wird in den drei Devicefeeds gespeichert und existiert somit nur virtuell. Der Virtuelle Feed hat jedoch wie die Hostfeeds (= device 1-3) einen eigenen RSA schlüssel."
   ]
  },
  {
   "cell_type": "code",
   "execution_count": 1,
   "metadata": {
    "id": "OTMEcLcKQKr_"
   },
   "outputs": [],
   "source": [
    "e = [193,475,79,89,47] #public Key element\n",
    "d = [62785,21307,303,1865,283] #private Key element\n",
    "M = [124373,21971,3151,2291,781] # Key Modul M\n",
    "device1 = [\"device1\",\"pubkey0\"]\n",
    "device2 = [\"device2\",\"pubkey1\"]\n",
    "device3 = [\"device3\",\"pubkey2\"]\n",
    "deviceList = [device1,device2,device3]\n",
    "mesgPointer = [0]*100\n",
    "virtualFeeds = ['']*100\n",
    "vFeedPointer = 0"
   ]
  },
  {
   "cell_type": "markdown",
   "metadata": {
    "id": "Jk2UB6egh7Rk"
   },
   "source": [
    "### Simple RSA Ver - und Entschlüsslung:\n",
    "Disclaimer: das ist lediglich eine Demoimplementierung von RSA, sie basiert auf der Theoretischen Grundlage von RSA, ist aber nicht sicher, da die Schlüsselzahlen zu klein sind...\n"
   ]
  },
  {
   "cell_type": "code",
   "execution_count": 2,
   "metadata": {
    "id": "DBR5LVVzcm4z"
   },
   "outputs": [],
   "source": [
    "def textEnc(key,text):\n",
    "  eT = \"\"\n",
    "  for i in text:\n",
    "    eT  = eT + chr((ord(i)**d[key])%M[key])\n",
    "  #print(\"encrypted with: \",key)\n",
    "  return eT"
   ]
  },
  {
   "cell_type": "code",
   "execution_count": 3,
   "metadata": {
    "id": "WSMxm4u-hdxd"
   },
   "outputs": [],
   "source": [
    "def textDec(key,enctext):\n",
    "  dT = \"\"\n",
    "  for i in enctext:\n",
    "    dT  = dT + chr((ord(i)**e[key])%M[key])\n",
    "  #print(\"decrypted with: \",key)\n",
    "  return dT"
   ]
  },
  {
   "cell_type": "code",
   "execution_count": 4,
   "metadata": {
    "colab": {
     "base_uri": "https://localhost:8080/"
    },
    "id": "juL27AzRetaN",
    "outputId": "0444e60b-8a33-4490-e4e3-e7b8e7b95947"
   },
   "outputs": [
    {
     "data": {
      "text/plain": [
       "'达⚔\\U0001e2bf\\U0001e2bf\\U00012a56'"
      ]
     },
     "execution_count": 4,
     "metadata": {},
     "output_type": "execute_result"
    }
   ],
   "source": [
    "textEnc(0,\"Hallo\")"
   ]
  },
  {
   "cell_type": "code",
   "execution_count": 5,
   "metadata": {
    "colab": {
     "base_uri": "https://localhost:8080/"
    },
    "id": "gsjVjBowhzO-",
    "outputId": "0c177963-fe0c-4968-81db-bc3339933670"
   },
   "outputs": [
    {
     "data": {
      "text/plain": [
       "'Hallo'"
      ]
     },
     "execution_count": 5,
     "metadata": {},
     "output_type": "execute_result"
    }
   ],
   "source": [
    "textDec(0,\"达⚔\\U0001e2bf\\U0001e2bf\\U00012a56\")"
   ]
  },
  {
   "cell_type": "code",
   "execution_count": 6,
   "metadata": {
    "colab": {
     "base_uri": "https://localhost:8080/"
    },
    "id": "QNEBmiNFyBL9",
    "outputId": "96f2aee2-7b78-42c7-86ea-4863d427e5e2"
   },
   "outputs": [
    {
     "name": "stdout",
     "output_type": "stream",
     "text": [
      "correct transformation over 1:\n",
      "True\n",
      "True\n",
      "True\n",
      "True\n",
      "True\n",
      "simlpe oclusion test:\n",
      "0 0\n",
      "1 1\n",
      "2 2\n",
      "3 3\n",
      "4 4\n",
      "double oclusion test:\n",
      "incorrect backtransformation over 2:\n",
      "0 1\n",
      "0 2\n",
      "0 3\n",
      "0 4\n",
      "1 2\n",
      "1 3\n",
      "1 4\n",
      "2 3\n",
      "2 4\n",
      "3 4\n"
     ]
    }
   ],
   "source": [
    "#FunctionCheck for the RSA numbers\n",
    "leng = len(e)\n",
    "print(\"correct transformation over 1:\")\n",
    "for i in range(0,leng,1):\n",
    "  enc = textEnc(i,\"abcdefghijklmnopqrstuvwxyzöäü,.-:\")\n",
    "  dec = textDec(i,enc)\n",
    "  #print(dec)\n",
    "  print(dec == \"abcdefghijklmnopqrstuvwxyzöäü,.-:\")\n",
    "\n",
    "print(\"simlpe oclusion test:\")\n",
    "for i in range(0,leng,1):\n",
    "  for j in range(0,leng,1):\n",
    "    enc = textEnc(i,\"abcdefghijklmnopqrstuvwxyzöäü\")\n",
    "    dec = textDec(j,enc)\n",
    "    if(dec == \"abcdefghijklmnopqrstuvwxyzöäü\"):\n",
    "      print(i,j)\n",
    "\n",
    "print(\"double oclusion test:\")\n",
    "for i in range(0,leng,1):\n",
    "  for j in range(0,leng,1):\n",
    "    enc = textEnc(i,\"abcdefghijklmnopqrstuvwxyzöäü\")\n",
    "    enc = textEnc(j,enc)\n",
    "    dec = textDec(i,enc)\n",
    "    if(dec == \"abcdefghijklmnopqrstuvwxyzöäü\"):\n",
    "      print(i,j)\n",
    "\n",
    "print(\"incorrect backtransformation over 2:\")\n",
    "for i in range(0,leng,1):\n",
    "  for j in range(0,leng,1):\n",
    "    enc = textEnc(i,\"abcdefghijklmnopqrstuvwxyzöäü\")\n",
    "    enc = textEnc(j,enc)\n",
    "    dec = textDec(j,enc)\n",
    "    dec = textDec(i,dec)\n",
    "    if(dec != \"abcdefghijklmnopqrstuvwxyzöäü\"):\n",
    "      print(i,j)"
   ]
  },
  {
   "cell_type": "markdown",
   "metadata": {
    "id": "m3_HZP0DiKyx"
   },
   "source": [
    "### Virtual Feed Funktionen\n"
   ]
  },
  {
   "cell_type": "code",
   "execution_count": 7,
   "metadata": {
    "id": "l1hC08dLz03H"
   },
   "outputs": [],
   "source": [
    "import random\n",
    "def newVirtualChat(name,devices):\n",
    "  global virtualFeeds\n",
    "  global vFeedPointer\n",
    "  key = vFeedPointer + 3 #jump over the feed keys\n",
    "  virtualFeeds[vFeedPointer] = name\n",
    "  deviceNames = []\n",
    "  for i in devices:\n",
    "    header = \"V\"+str(vFeedPointer)+ \":\"+name\n",
    "    pubkey = \"V\"+str(vFeedPointer)+\":pubkey\"+str(key)\n",
    "    newfeedMsg(i,header)\n",
    "    newfeedMsg(i,pubkey)\n",
    "    deviceNames.append(i[0])\n",
    "  vFeedPointer +=1\n",
    "  print(\"NewVirtualChat created: \",name, \"devices: \",deviceNames, \"pubkey e:\",e[key],\"M:\",M[key])"
   ]
  },
  {
   "cell_type": "code",
   "execution_count": 8,
   "metadata": {
    "id": "K8qqg0dSYPWe"
   },
   "outputs": [],
   "source": [
    "def printFeed(feed):\n",
    "  key = int(feed[1][6:7])\n",
    "  for i in range(0,2,1):\n",
    "    print(feed[i])\n",
    "  for i in range(2,len(feed),1):\n",
    "    print(textDec(key,feed[i]))"
   ]
  },
  {
   "cell_type": "code",
   "execution_count": 9,
   "metadata": {
    "id": "YDPAjt20y0ue"
   },
   "outputs": [],
   "source": [
    "def printRawFeed(feed):\n",
    "  for i in feed:\n",
    "    print(i)"
   ]
  },
  {
   "cell_type": "code",
   "execution_count": 10,
   "metadata": {
    "id": "rAVbkbMBaEWu"
   },
   "outputs": [],
   "source": [
    "def printVirtualFeedHeader(feed):\n",
    "  for i in deviceList:\n",
    "    for j in i:\n",
    "      if (j == \"V\"+feed):\n",
    "        print(j)"
   ]
  },
  {
   "cell_type": "code",
   "execution_count": 11,
   "metadata": {
    "id": "HjuP3BkZjUPX"
   },
   "outputs": [],
   "source": [
    "def printVirtualFeed(feed):\n",
    "  global vFeedPointer\n",
    "  mesgList = ['']*100;\n",
    "  index = -1\n",
    "  messOn = False\n",
    "  vKey = -1\n",
    "  s = 0\n",
    "  for i in range(0,vFeedPointer,1):\n",
    "    if(virtualFeeds[i]== feed):\n",
    "      vKey = i + 3;\n",
    "      #print(vKey)\n",
    "  for i in deviceList:\n",
    "    dKey = int(i[1][6:7])\n",
    "    for j in i:\n",
    "      if (textDec(dKey,j[1:3+len(feed)]) == \"V:\"+feed):\n",
    "         index = ord(textDec(dKey,j[0]))-48\n",
    "         mesgList[index] = textDec(dKey,j[4+len(feed):])\n",
    "  for m in mesgList:\n",
    "    if (m !=''):\n",
    "      print(textDec(vKey,m))"
   ]
  },
  {
   "cell_type": "code",
   "execution_count": 12,
   "metadata": {
    "id": "0jtiqtyqulEU"
   },
   "outputs": [],
   "source": [
    "def newfeedMsg(feed,message):\n",
    "  feed.append(textEnc(int(feed[1][6:7]),message))"
   ]
  },
  {
   "cell_type": "code",
   "execution_count": 13,
   "metadata": {
    "id": "du_salyUwAGD"
   },
   "outputs": [],
   "source": [
    "newfeedMsg(device1,\"hallo\")"
   ]
  },
  {
   "cell_type": "code",
   "execution_count": 14,
   "metadata": {
    "id": "sCZKiO6ifKzb"
   },
   "outputs": [],
   "source": [
    "def newVirtualMesg(vfeed,dfeed,message): #gehört zu Virtualize\n",
    "  global mesgPointer\n",
    "  global virtualFeeds\n",
    "  global vFeedPointer\n",
    "  mp = -1;\n",
    "  vKey = -1;\n",
    "  for i in range(0,vFeedPointer,1):\n",
    "    if(virtualFeeds[i]== vfeed):\n",
    "      mp = mesgPointer[i]\n",
    "      mesgPointer[i] +=1\n",
    "      vKey = i + 3\n",
    "      #print(vKey)\n",
    "  if(mp<0):\n",
    "    print(\"Du musst zuerst einen Virtuellen Feed erstellen\")\n",
    "  else:\n",
    "    message = textEnc(vKey,message)\n",
    "    msg = str(mp)+\"V:\"+vfeed+\":\"+message\n",
    "    newfeedMsg(dfeed,msg)\n"
   ]
  },
  {
   "cell_type": "markdown",
   "metadata": {
    "id": "8sRu2l2CuAHB"
   },
   "source": [
    "### erstellen eines Virtuellen Chats \"virtualtest\" auf drei geräten:\n",
    "\n"
   ]
  },
  {
   "cell_type": "code",
   "execution_count": 15,
   "metadata": {
    "colab": {
     "base_uri": "https://localhost:8080/"
    },
    "id": "qirFdQteV-1o",
    "outputId": "2ffa732f-e807-4fc7-92e3-31dd22037d21"
   },
   "outputs": [
    {
     "name": "stdout",
     "output_type": "stream",
     "text": [
      "NewVirtualChat created:  virtualtest devices:  ['device1', 'device2', 'device3'] pubkey e: 89 M: 2291\n"
     ]
    }
   ],
   "source": [
    "#erstellen eines Virtuellen Chats \"virtualtest\" auf drei geräten \n",
    "name = \"virtualtest\"\n",
    "devices = [device1,device2,device3]\n",
    "newVirtualChat(name, devices)"
   ]
  },
  {
   "cell_type": "markdown",
   "metadata": {
    "id": "yG_SU48huI9J"
   },
   "source": [
    "### Erstellen von neuen Nachrichten auf verschiedenen Geräten"
   ]
  },
  {
   "cell_type": "code",
   "execution_count": 16,
   "metadata": {
    "colab": {
     "base_uri": "https://localhost:8080/"
    },
    "id": "mu_XZaxrYJkC",
    "outputId": "1253239b-0799-4bac-d250-6673159188d1"
   },
   "outputs": [],
   "source": [
    "#erstellen einer neuen nachricht in \"virtualtest\" von gerät1\n",
    "vfeed = \"virtualtest\"\n",
    "dfeed = device1\n",
    "message = \"hello world\"\n",
    "newVirtualMesg(vfeed,dfeed,message)"
   ]
  },
  {
   "cell_type": "code",
   "execution_count": 17,
   "metadata": {
    "colab": {
     "base_uri": "https://localhost:8080/"
    },
    "id": "jtg7WpBSto2Y",
    "outputId": "e87e11af-8cf0-4aa0-8b7f-476b7cc887dc"
   },
   "outputs": [],
   "source": [
    "#erstellen einer neuen nachricht in \"virtualtest\" von gerät1\n",
    "vfeed = \"virtualtest\"\n",
    "dfeed = device1\n",
    "message = \"damit nicht das \\\"Fork\\\" problem auftritt, muss ich das Schreibrecht an Gerät 2 weitergeben \"\n",
    "newVirtualMesg(vfeed,dfeed,message)"
   ]
  },
  {
   "cell_type": "code",
   "execution_count": 18,
   "metadata": {
    "colab": {
     "base_uri": "https://localhost:8080/"
    },
    "id": "HX0iBs3WtvD7",
    "outputId": "f9b6341d-f479-4816-c270-fb71eed46a69"
   },
   "outputs": [],
   "source": [
    "#erstellen einer neuen nachricht in \"virtualtest\" von gerät2\n",
    "vfeed = \"virtualtest\"\n",
    "dfeed = device2\n",
    "message = \"Dann kann ich, Gerät2 auf den Virtualfeed schreiben\"\n",
    "newVirtualMesg(vfeed,dfeed,message)"
   ]
  },
  {
   "cell_type": "markdown",
   "metadata": {
    "id": "zu5CUg81tcXR"
   },
   "source": [
    "### Was in den einzelnen Geräte - Feeds steht:"
   ]
  },
  {
   "cell_type": "code",
   "execution_count": 19,
   "metadata": {
    "colab": {
     "base_uri": "https://localhost:8080/"
    },
    "id": "kbiHqAdOzEM7",
    "outputId": "9e93003b-2647-4e09-c0ca-27a4172df64c"
   },
   "outputs": [
    {
     "name": "stdout",
     "output_type": "stream",
     "text": [
      "device1\n",
      "pubkey0\n",
      "𒆪⚔𞊿𞊿𒩖\n",
      "𗵢鏾𓶯𗭊똀𝫖𖣆⚔𞊿忎𐱒\n",
      "𗵢鏾𓶯𖣆𓪭⮿忎𘚩䛪\n",
      "鏾𗵢𓶯𗭊똀𝫖𖣆⚔𞊿忎𐱒𓶯𒬼𑤀══囔붭𖅲囔楼═괋\n",
      "𑾔𗵢𓶯𗭊똀𝫖𖣆⚔𞊿忎𐱒𓶯괋ڡ𗨙镹𐺡붭𗚷镹𒫢𒬼𐺡붭괋ڡ𓏈붭鬒ꄑ囔楼鞺鬒붭꣝楼囔硖═𑤀𗨙붭ڡℌ𑕝𐺡楼镹𐺡𐺡㬴붭𗨙ℌ𓏈𓏈붭镹𒫢𒬼붭괋ڡ𓏈붭𒖖𒫢𒬼楼𑤀镹硖楼𑤀𒫢𒬼𐺡붭ڡ𗚷붭훪𑤀楼𘕢𐺡붭붭𖅲𑤀镹𐺡𑤀楼𙜜𑤀硖𑤀𗚷붭\n"
     ]
    }
   ],
   "source": [
    "#Feed von Gerät 1\n",
    "printRawFeed(device1)"
   ]
  },
  {
   "cell_type": "code",
   "execution_count": 20,
   "metadata": {
    "colab": {
     "base_uri": "https://localhost:8080/"
    },
    "id": "LX0UmM4yqL66",
    "outputId": "2852ff56-fd14-47bb-97cd-e7c0fabc0555",
    "scrolled": true
   },
   "outputs": [
    {
     "name": "stdout",
     "output_type": "stream",
     "text": [
      "device1\n",
      "pubkey0\n",
      "hallo\n",
      "V0:virtualtest\n",
      "V0:pubkey3\n",
      "0V:virtualtest:چԤࡘࡘѢ˗ޙѢ֕ࡘش\n",
      "1V:virtualtest:شڡȏ֧è˗ֺ֧ǹچè˗شڡࠊ˗ϣ̸Ѣ֕äϣ˗ࢳ֕ѢӅࡘԤȏ˗ڡźè֧֕èèҚ˗ȏźࠊࠊ˗֧ǹچ˗شڡࠊ˗ׁǹچ֕Ԥ֧Ӆ֕Ԥǹچè˗ڡֺ˗ʱԤ֕ƭè˗ך˗ޙԤ֧èԤ֕շԤӅԤֺ˗\n"
     ]
    }
   ],
   "source": [
    "#Feed von Gerät 1\n",
    "printFeed(device1)"
   ]
  },
  {
   "cell_type": "code",
   "execution_count": 21,
   "metadata": {
    "colab": {
     "base_uri": "https://localhost:8080/"
    },
    "id": "PIoolx9UtMMV",
    "outputId": "9d6cb074-9f47-4940-f3b3-345e3fd961a2"
   },
   "outputs": [
    {
     "name": "stdout",
     "output_type": "stream",
     "text": [
      "device2\n",
      "pubkey1\n",
      "V0:virtualtest\n",
      "V0:pubkey3\n",
      "2V:virtualtest:٧ڡֺֺ˗äڡֺֺ˗֧ǹچҚ˗ʱԤ֕ƭèך˗ڡź˗شԤֺ˗ϙ֧֕èźڡࡘԤԤش˗ࠊǹچ֕Ԥ֧ӅԤֺ\n"
     ]
    }
   ],
   "source": [
    "#Feed von Gerät 2\n",
    "printFeed(device2)"
   ]
  },
  {
   "cell_type": "code",
   "execution_count": 22,
   "metadata": {
    "colab": {
     "base_uri": "https://localhost:8080/"
    },
    "id": "l6l5c4BstL94",
    "outputId": "df8e4e0a-d7fd-4d97-bd5a-9aae4b87c0bf"
   },
   "outputs": [
    {
     "name": "stdout",
     "output_type": "stream",
     "text": [
      "device3\n",
      "pubkey2\n",
      "V0:virtualtest\n",
      "V0:pubkey3\n"
     ]
    }
   ],
   "source": [
    "#Feed von Gerät 3\n",
    "printFeed(device3)"
   ]
  },
  {
   "cell_type": "markdown",
   "metadata": {
    "id": "R4E7aT8huUbF"
   },
   "source": [
    "### Was im Virtual Feed steht:"
   ]
  },
  {
   "cell_type": "code",
   "execution_count": 23,
   "metadata": {
    "colab": {
     "base_uri": "https://localhost:8080/"
    },
    "id": "14QgbjT3m2rb",
    "outputId": "139abea9-70e4-41b5-ec27-f8c0e9924e7d"
   },
   "outputs": [
    {
     "name": "stdout",
     "output_type": "stream",
     "text": [
      "hello world\n",
      "damit nicht das \"Fork\" problem auftritt, muss ich das Schreibrecht an Gerät 2 weitergeben \n",
      "Dann kann ich, Gerät2 auf den Virtualfeed schreiben\n"
     ]
    }
   ],
   "source": [
    "printVirtualFeed(vfeed)"
   ]
  },
  {
   "cell_type": "code",
   "execution_count": null,
   "metadata": {},
   "outputs": [],
   "source": []
  }
 ],
 "metadata": {
  "colab": {
   "name": "Demo-Virtual-feed.ipynb",
   "provenance": []
  },
  "kernelspec": {
   "display_name": "Python 3",
   "language": "python",
   "name": "python3"
  },
  "language_info": {
   "codemirror_mode": {
    "name": "ipython",
    "version": 3
   },
   "file_extension": ".py",
   "mimetype": "text/x-python",
   "name": "python",
   "nbconvert_exporter": "python",
   "pygments_lexer": "ipython3",
   "version": "3.8.8"
  }
 },
 "nbformat": 4,
 "nbformat_minor": 1
}
